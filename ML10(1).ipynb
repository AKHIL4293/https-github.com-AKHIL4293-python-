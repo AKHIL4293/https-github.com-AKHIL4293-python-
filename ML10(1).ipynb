{
 "cells": [
  {
   "cell_type": "code",
   "execution_count": 8,
   "metadata": {},
   "outputs": [
    {
     "name": "stdout",
     "output_type": "stream",
     "text": [
      "Please enter your name : a\n",
      "what is your age, a?8\n",
      "8\n",
      "you can vote at after 10 years.\n"
     ]
    }
   ],
   "source": [
    "name = input(\"Please enter your name : \")\n",
    "age = int(input(\"what is your age, {0}?\".format(name)))\n",
    "print (age)\n",
    "\n",
    "if age >=18:\n",
    "    print(\"you can vote!!!\")\n",
    "else:\n",
    "    print(\"you can vote at after {0} years.\".format(18-age))"
   ]
  },
  {
   "cell_type": "code",
   "execution_count": 13,
   "metadata": {},
   "outputs": [
    {
     "name": "stdout",
     "output_type": "stream",
     "text": [
      "Please guess a number b/w 1 to 10\n",
      "8\n",
      "Please guess lower\n",
      "5\n",
      "Well Done, your guess is correct!!\n"
     ]
    }
   ],
   "source": [
    "print(\"Please guess a number b/w 1 to 10\")\n",
    "guess = int(input())\n",
    "\n",
    "if guess < 5:\n",
    "    print(\"Please guess higher\")\n",
    "    \n",
    "    guess = int(input())\n",
    "    if guess == 5:\n",
    "        print(\"Well Done, your guess is correct!!\")\n",
    "    else:\n",
    "        print(\"Sorry, you have not guessed the right number\")\n",
    "elif guess >5:\n",
    "    print(\"Please guess lower\")\n",
    "    \n",
    "    guess = int(input())\n",
    "    if guess == 5:\n",
    "        print(\"Well Done, your guess is correct!!\")\n",
    "    else:\n",
    "        print(\"Sorry, you have not guessed the right number\")\n",
    "\n",
    "else:\n",
    "    print(\"You got it first time\")\n",
    "    "
   ]
  },
  {
   "cell_type": "code",
   "execution_count": null,
   "metadata": {},
   "outputs": [],
   "source": []
  },
  {
   "cell_type": "code",
   "execution_count": null,
   "metadata": {},
   "outputs": [],
   "source": []
  }
 ],
 "metadata": {
  "kernelspec": {
   "display_name": "Python 3",
   "language": "python",
   "name": "python3"
  },
  "language_info": {
   "codemirror_mode": {
    "name": "ipython",
    "version": 3
   },
   "file_extension": ".py",
   "mimetype": "text/x-python",
   "name": "python",
   "nbconvert_exporter": "python",
   "pygments_lexer": "ipython3",
   "version": "3.7.1"
  }
 },
 "nbformat": 4,
 "nbformat_minor": 2
}
