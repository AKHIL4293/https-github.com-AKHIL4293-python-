{
 "cells": [
  {
   "cell_type": "code",
   "execution_count": 2,
   "metadata": {},
   "outputs": [
    {
     "data": {
      "text/plain": [
       "'gray'"
      ]
     },
     "execution_count": 2,
     "metadata": {},
     "output_type": "execute_result"
    }
   ],
   "source": [
    "myCat = {'size':'fat','color':'gray','disposition':'loud'}\n",
    "\n",
    "myCat['color']\n"
   ]
  },
  {
   "cell_type": "code",
   "execution_count": 3,
   "metadata": {},
   "outputs": [
    {
     "data": {
      "text/plain": [
       "False"
      ]
     },
     "execution_count": 3,
     "metadata": {},
     "output_type": "execute_result"
    }
   ],
   "source": [
    "spam1 = ['cat','dog','rat']\n",
    "spam2 = ['dog','rat','cat']\n",
    "spam1 == spam2"
   ]
  },
  {
   "cell_type": "code",
   "execution_count": 4,
   "metadata": {},
   "outputs": [
    {
     "data": {
      "text/plain": [
       "True"
      ]
     },
     "execution_count": 4,
     "metadata": {},
     "output_type": "execute_result"
    }
   ],
   "source": [
    "myCat1 = {'size':'fat','color':'gray','disposition':'loud'}\n",
    "myCat2 = {'color':'gray', 'disposition':'loud','size':'fat'}\n",
    "myCat1 == myCat2"
   ]
  },
  {
   "cell_type": "code",
   "execution_count": 5,
   "metadata": {},
   "outputs": [
    {
     "name": "stdout",
     "output_type": "stream",
     "text": [
      "Akhil\n",
      "M\n",
      "23\n"
     ]
    }
   ],
   "source": [
    "spam = {'name':'Akhil','gender':'M','age':'23'}\n",
    "\n",
    "for v in spam.values():\n",
    "    print(v)"
   ]
  },
  {
   "cell_type": "code",
   "execution_count": 6,
   "metadata": {},
   "outputs": [
    {
     "name": "stdout",
     "output_type": "stream",
     "text": [
      "name\n",
      "gender\n",
      "age\n"
     ]
    }
   ],
   "source": [
    "for k in spam.keys():\n",
    "    print(k)\n",
    "    "
   ]
  },
  {
   "cell_type": "code",
   "execution_count": 7,
   "metadata": {},
   "outputs": [
    {
     "name": "stdout",
     "output_type": "stream",
     "text": [
      "('name', 'Akhil')\n",
      "('gender', 'M')\n",
      "('age', '23')\n"
     ]
    }
   ],
   "source": [
    "for i in spam.items():\n",
    "    print(i)"
   ]
  },
  {
   "cell_type": "code",
   "execution_count": 8,
   "metadata": {},
   "outputs": [
    {
     "name": "stdout",
     "output_type": "stream",
     "text": [
      "Enter the name : \n",
      "kriti\n",
      "I do not have birthday info for kriti\n",
      "What is there birthday?\n",
      "oct18\n",
      "Birthday database is updated\n",
      "Enter the name : \n",
      "kriti\n",
      "oct18 is the birthday of kriti\n",
      "Enter the name : \n",
      "akhil\n",
      "I do not have birthday info for akhil\n",
      "What is there birthday?\n",
      "3 ajfk\n",
      "Birthday database is updated\n",
      "Enter the name : \n",
      "Akhil\n",
      "Oct 18 is the birthday of Akhil\n",
      "Enter the name : \n",
      "\n"
     ]
    }
   ],
   "source": [
    "birthdays = {'Rahul':'Jan 1','Vivek':'Apr 1','Akhil':'Oct 18'}\n",
    "\n",
    "while True:\n",
    "    print(\"Enter the name : \")\n",
    "    name = input()\n",
    "    if name =='':\n",
    "        break\n",
    "    \n",
    "    if name in birthdays:\n",
    "        print(birthdays[name]+' is the birthday of '+ name)\n",
    "        \n",
    "    else:\n",
    "        print('I do not have birthday info for '+ name)\n",
    "        \n",
    "        print('What is there birthday?')\n",
    "        bday = input()\n",
    "        birthdays[name]= bday\n",
    "        print('Birthday database is updated')\n",
    "        "
   ]
  },
  {
   "cell_type": "code",
   "execution_count": null,
   "metadata": {},
   "outputs": [],
   "source": []
  },
  {
   "cell_type": "code",
   "execution_count": null,
   "metadata": {},
   "outputs": [],
   "source": []
  }
 ],
 "metadata": {
  "kernelspec": {
   "display_name": "Python 3",
   "language": "python",
   "name": "python3"
  },
  "language_info": {
   "codemirror_mode": {
    "name": "ipython",
    "version": 3
   },
   "file_extension": ".py",
   "mimetype": "text/x-python",
   "name": "python",
   "nbconvert_exporter": "python",
   "pygments_lexer": "ipython3",
   "version": "3.7.1"
  }
 },
 "nbformat": 4,
 "nbformat_minor": 2
}
