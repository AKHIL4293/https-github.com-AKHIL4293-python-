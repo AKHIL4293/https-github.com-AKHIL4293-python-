{
 "cells": [
  {
   "cell_type": "code",
   "execution_count": 5,
   "metadata": {},
   "outputs": [
    {
     "name": "stdout",
     "output_type": "stream",
     "text": [
      "Hello, Akhil. How are you?\n"
     ]
    }
   ],
   "source": [
    "var1 = 'Hello'\n",
    "var2 = 'Akhil'\n",
    "\n",
    "message = var1+ ', ' +var2+ '. How are you?' \n",
    "print (message)"
   ]
  },
  {
   "cell_type": "code",
   "execution_count": 6,
   "metadata": {},
   "outputs": [
    {
     "name": "stdout",
     "output_type": "stream",
     "text": [
      "Hello, Akhil. How are you?\n"
     ]
    }
   ],
   "source": [
    "message2 = '{}, {}. How are you?'.format(var1,var2)\n",
    "print(message2)"
   ]
  },
  {
   "cell_type": "code",
   "execution_count": 8,
   "metadata": {},
   "outputs": [
    {
     "name": "stdout",
     "output_type": "stream",
     "text": [
      "Hello, Akhil. How are you?\n"
     ]
    }
   ],
   "source": [
    "message3 =f'{var1}, {var2}. How are you?'\n",
    "print(message3)"
   ]
  },
  {
   "cell_type": "code",
   "execution_count": 10,
   "metadata": {},
   "outputs": [
    {
     "name": "stdout",
     "output_type": "stream",
     "text": [
      "Knowledge Shelf\n",
      "<class 'str'>\n",
      "knowledge shelf\n",
      "KNOWLEDGE SHELF\n",
      "15\n",
      "15\n",
      "3\n",
      "10\n",
      "S\n",
      "Knowledge \n"
     ]
    }
   ],
   "source": [
    "message4 =\"Knowledge Shelf\"\n",
    "print(message4)\n",
    "print(type(message4))\n",
    "print(message4.lower())\n",
    "print(message4.upper())\n",
    "print(message4.__len__())\n",
    "print(len(message4))\n",
    "print(message4.count('e'))\n",
    "print(message4.find('Shelf'))\n",
    "print(message4[10])\n",
    "print(message4[0:10])\n"
   ]
  },
  {
   "cell_type": "code",
   "execution_count": null,
   "metadata": {},
   "outputs": [],
   "source": []
  }
 ],
 "metadata": {
  "kernelspec": {
   "display_name": "Python 3",
   "language": "python",
   "name": "python3"
  },
  "language_info": {
   "codemirror_mode": {
    "name": "ipython",
    "version": 3
   },
   "file_extension": ".py",
   "mimetype": "text/x-python",
   "name": "python",
   "nbconvert_exporter": "python",
   "pygments_lexer": "ipython3",
   "version": "3.7.1"
  }
 },
 "nbformat": 4,
 "nbformat_minor": 2
}
