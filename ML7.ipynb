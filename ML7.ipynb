{
 "cells": [
  {
   "cell_type": "code",
   "execution_count": 2,
   "metadata": {},
   "outputs": [
    {
     "name": "stdout",
     "output_type": "stream",
     "text": [
      "Value of I 1\n",
      "Value of I 2\n",
      "Value of I 3\n",
      "Value of I 4\n",
      "Value of I 5\n",
      "Value of I 6\n",
      "Value of I 7\n",
      "Value of I 8\n",
      "Value of I 9\n",
      "Value of I 10\n",
      "Value of I 11\n"
     ]
    }
   ],
   "source": [
    "for i in range(1,12):\n",
    "    print(\"Value of I \"+ str(i))"
   ]
  },
  {
   "cell_type": "code",
   "execution_count": 3,
   "metadata": {},
   "outputs": [
    {
     "name": "stdout",
     "output_type": "stream",
     "text": [
      "Value of I 1\n",
      "Value of I 2\n",
      "Value of I 3\n",
      "Value of I 4\n",
      "Value of I 5\n",
      "Value of I 6\n",
      "Value of I 7\n",
      "Value of I 8\n",
      "Value of I 9\n",
      "Value of I 10\n",
      "Value of I 11\n",
      "thanks\n"
     ]
    }
   ],
   "source": [
    "for i in range(1,12):\n",
    "    print(\"Value of I \"+ str(i))\n",
    "print(\"thanks\")"
   ]
  },
  {
   "cell_type": "code",
   "execution_count": 4,
   "metadata": {},
   "outputs": [
    {
     "name": "stdout",
     "output_type": "stream",
     "text": [
      "Value of I 1\n",
      "thanks\n",
      "Value of I 2\n",
      "thanks\n",
      "Value of I 3\n",
      "thanks\n",
      "Value of I 4\n",
      "thanks\n",
      "Value of I 5\n",
      "thanks\n",
      "Value of I 6\n",
      "thanks\n",
      "Value of I 7\n",
      "thanks\n",
      "Value of I 8\n",
      "thanks\n",
      "Value of I 9\n",
      "thanks\n",
      "Value of I 10\n",
      "thanks\n",
      "Value of I 11\n",
      "thanks\n"
     ]
    }
   ],
   "source": [
    "for i in range(1,12):\n",
    "    print(\"Value of I \"+ str(i))\n",
    "    print(\"thanks\")"
   ]
  },
  {
   "cell_type": "code",
   "execution_count": null,
   "metadata": {},
   "outputs": [],
   "source": []
  }
 ],
 "metadata": {
  "kernelspec": {
   "display_name": "Python 3",
   "language": "python",
   "name": "python3"
  },
  "language_info": {
   "codemirror_mode": {
    "name": "ipython",
    "version": 3
   },
   "file_extension": ".py",
   "mimetype": "text/x-python",
   "name": "python",
   "nbconvert_exporter": "python",
   "pygments_lexer": "ipython3",
   "version": "3.7.1"
  }
 },
 "nbformat": 4,
 "nbformat_minor": 2
}
