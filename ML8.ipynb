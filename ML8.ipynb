{
 "cells": [
  {
   "cell_type": "code",
   "execution_count": 2,
   "metadata": {},
   "outputs": [
    {
     "name": "stdout",
     "output_type": "stream",
     "text": [
      "Hello, Knowledge Shelf\n"
     ]
    }
   ],
   "source": [
    "#Function\n",
    "def function1():\n",
    "    print(\"Hello, Knowledge Shelf\")\n",
    "\n"
   ]
  },
  {
   "cell_type": "code",
   "execution_count": 3,
   "metadata": {},
   "outputs": [
    {
     "name": "stdout",
     "output_type": "stream",
     "text": [
      "enter the value of num1 : 5\n",
      "enter the value of num2 : 5\n",
      "Sum =  10\n"
     ]
    }
   ],
   "source": [
    "# no argument no return type\n",
    "def add():\n",
    "    var1 = int (input(\"enter the value of num1 : \"))\n",
    "    var2 = int (input(\"enter the value of num2 : \"))\n",
    "    \n",
    "    var3 = var1+var2\n",
    "    print(\"Sum = \", var3)\n",
    "    \n"
   ]
  },
  {
   "cell_type": "code",
   "execution_count": 6,
   "metadata": {},
   "outputs": [
    {
     "name": "stdout",
     "output_type": "stream",
     "text": [
      "Sub =  -1\n"
     ]
    }
   ],
   "source": [
    "# with arguments and no return type\n",
    "def sub(var1, var2):\n",
    "    var3 = var1- var2\n",
    "    print(\"Sub = \", var3)\n",
    "\n"
   ]
  },
  {
   "cell_type": "code",
   "execution_count": 7,
   "metadata": {},
   "outputs": [
    {
     "name": "stdout",
     "output_type": "stream",
     "text": [
      "enter the value of num1 : 5\n",
      "enter the value of num2 : 4\n",
      "Multiply =  20\n"
     ]
    }
   ],
   "source": [
    "# no arguement and with return type \n",
    "def multiply():\n",
    "    var1 = int (input(\"enter the value of num1 : \"))\n",
    "    var2 = int (input(\"enter the value of num2 : \"))\n",
    "    \n",
    "    var3 = var1*var2\n",
    "    \n",
    "    return var3\n"
   ]
  },
  {
   "cell_type": "code",
   "execution_count": 9,
   "metadata": {},
   "outputs": [
    {
     "name": "stdout",
     "output_type": "stream",
     "text": [
      "Division =  5.444444444444445\n"
     ]
    }
   ],
   "source": [
    "# with argument and return type\n",
    "def div(var1,var2):\n",
    "    var3 = var1/var2\n",
    "    return var3\n"
   ]
  },
  {
   "cell_type": "code",
   "execution_count": null,
   "metadata": {},
   "outputs": [],
   "source": []
  }
 ],
 "metadata": {
  "kernelspec": {
   "display_name": "Python 3",
   "language": "python",
   "name": "python3"
  },
  "language_info": {
   "codemirror_mode": {
    "name": "ipython",
    "version": 3
   },
   "file_extension": ".py",
   "mimetype": "text/x-python",
   "name": "python",
   "nbconvert_exporter": "python",
   "pygments_lexer": "ipython3",
   "version": "3.7.1"
  }
 },
 "nbformat": 4,
 "nbformat_minor": 2
}
