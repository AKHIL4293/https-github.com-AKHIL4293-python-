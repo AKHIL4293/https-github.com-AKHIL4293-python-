{
 "cells": [
  {
   "cell_type": "code",
   "execution_count": 5,
   "metadata": {},
   "outputs": [
    {
     "data": {
      "text/plain": [
       "str"
      ]
     },
     "execution_count": 5,
     "metadata": {},
     "output_type": "execute_result"
    }
   ],
   "source": [
    "var1 = '1.3'\n",
    "type(var1)"
   ]
  },
  {
   "cell_type": "code",
   "execution_count": 6,
   "metadata": {},
   "outputs": [
    {
     "name": "stdout",
     "output_type": "stream",
     "text": [
      "Hello\n",
      "akhil\n"
     ]
    }
   ],
   "source": [
    "_var1 = 'Hello'\n",
    "name_var1 = 'akhil'\n",
    "print(_var1)\n",
    "print(name_var1)"
   ]
  },
  {
   "cell_type": "code",
   "execution_count": 7,
   "metadata": {},
   "outputs": [
    {
     "name": "stdout",
     "output_type": "stream",
     "text": [
      "akhil20\n"
     ]
    }
   ],
   "source": [
    "var2 = 20\n",
    "name = 'akhil'\n",
    "print(name + str(var2))"
   ]
  },
  {
   "cell_type": "code",
   "execution_count": 10,
   "metadata": {},
   "outputs": [
    {
     "name": "stdout",
     "output_type": "stream",
     "text": [
      "29\n",
      "15\n",
      "154\n",
      "3.142857142857143\n",
      "2494357888\n",
      "3\n",
      "1\n"
     ]
    }
   ],
   "source": [
    "var3 = 22\n",
    "var4 = 7\n",
    "print(var3+var4)\n",
    "print(var3-var4)\n",
    "print(var3*var4)\n",
    "print(var3/var4)\n",
    "print(var3**var4)\n",
    "print(var3//var4)\n",
    "print(var3%var4)"
   ]
  },
  {
   "cell_type": "code",
   "execution_count": 11,
   "metadata": {},
   "outputs": [
    {
     "name": "stdout",
     "output_type": "stream",
     "text": [
      "Enter value of var3:5\n",
      "Enter value of var4:8\n",
      "13\n",
      "-3\n",
      "40\n",
      "0.625\n",
      "390625\n",
      "0\n",
      "5\n"
     ]
    }
   ],
   "source": [
    "var3 = int(input('Enter value of var3:'))     #type change is very important \n",
    "var4 = int(input('Enter value of var4:'))\n",
    "print(var3+var4)\n",
    "print(var3-var4)\n",
    "print(var3*var4)\n",
    "print(var3/var4)\n",
    "print(var3**var4)\n",
    "print(var3//var4)\n",
    "print(var3%var4)"
   ]
  },
  {
   "cell_type": "code",
   "execution_count": null,
   "metadata": {},
   "outputs": [],
   "source": []
  }
 ],
 "metadata": {
  "kernelspec": {
   "display_name": "Python 3",
   "language": "python",
   "name": "python3"
  },
  "language_info": {
   "codemirror_mode": {
    "name": "ipython",
    "version": 3
   },
   "file_extension": ".py",
   "mimetype": "text/x-python",
   "name": "python",
   "nbconvert_exporter": "python",
   "pygments_lexer": "ipython3",
   "version": "3.7.1"
  }
 },
 "nbformat": 4,
 "nbformat_minor": 2
}
